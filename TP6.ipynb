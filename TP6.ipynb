{
  "nbformat": 4,
  "nbformat_minor": 0,
  "metadata": {
    "colab": {
      "provenance": [],
      "authorship_tag": "ABX9TyODkroWrljePf1Q34/Hlw0+",
      "include_colab_link": true
    },
    "kernelspec": {
      "name": "python3",
      "display_name": "Python 3"
    },
    "language_info": {
      "name": "python"
    }
  },
  "cells": [
    {
      "cell_type": "markdown",
      "metadata": {
        "id": "view-in-github",
        "colab_type": "text"
      },
      "source": [
        "<a href=\"https://colab.research.google.com/github/KubX44/Tp-Spark-GraphX-et-GraphFrames/blob/main/TP6.ipynb\" target=\"_parent\"><img src=\"https://colab.research.google.com/assets/colab-badge.svg\" alt=\"Open In Colab\"/></a>"
      ]
    },
    {
      "cell_type": "code",
      "source": [
        "! pip install pyspark"
      ],
      "metadata": {
        "colab": {
          "base_uri": "https://localhost:8080/"
        },
        "id": "ksOLUEuP0cE6",
        "outputId": "93a0616c-988d-42fe-a6a1-cad99793aad9"
      },
      "execution_count": 1,
      "outputs": [
        {
          "output_type": "stream",
          "name": "stdout",
          "text": [
            "Collecting pyspark\n",
            "  Downloading pyspark-3.5.0.tar.gz (316.9 MB)\n",
            "\u001b[2K     \u001b[90m━━━━━━━━━━━━━━━━━━━━━━━━━━━━━━━━━━━━━━━━\u001b[0m \u001b[32m316.9/316.9 MB\u001b[0m \u001b[31m1.1 MB/s\u001b[0m eta \u001b[36m0:00:00\u001b[0m\n",
            "\u001b[?25h  Preparing metadata (setup.py) ... \u001b[?25l\u001b[?25hdone\n",
            "Requirement already satisfied: py4j==0.10.9.7 in /usr/local/lib/python3.10/dist-packages (from pyspark) (0.10.9.7)\n",
            "Building wheels for collected packages: pyspark\n",
            "  Building wheel for pyspark (setup.py) ... \u001b[?25l\u001b[?25hdone\n",
            "  Created wheel for pyspark: filename=pyspark-3.5.0-py2.py3-none-any.whl size=317425344 sha256=c69ead13442db385d293e1a340bf41e67f4a1e9728ff701d5755e16f0cb517b5\n",
            "  Stored in directory: /root/.cache/pip/wheels/41/4e/10/c2cf2467f71c678cfc8a6b9ac9241e5e44a01940da8fbb17fc\n",
            "Successfully built pyspark\n",
            "Installing collected packages: pyspark\n",
            "Successfully installed pyspark-3.5.0\n"
          ]
        }
      ]
    },
    {
      "cell_type": "markdown",
      "source": [
        "1) Créer un DataFrame pour chaque fichier"
      ],
      "metadata": {
        "id": "tJZIVOcl1Adx"
      }
    },
    {
      "cell_type": "code",
      "source": [
        "import pyspark\n",
        "from pyspark.sql import SparkSession\n",
        "spark = (SparkSession\n",
        "            .builder\n",
        "            .config('spark.jars.packages', 'graphframes:graphframes:0.8.2-spark3.2-s_2.12')\n",
        "            .appName(\"tp6\")\n",
        "            .getOrCreate()\n",
        ")"
      ],
      "metadata": {
        "id": "kz5zuhC31A5L"
      },
      "execution_count": 3,
      "outputs": []
    },
    {
      "cell_type": "code",
      "source": [
        "Stations = spark.read.option(\"header\",\"true\")\\\n",
        ".csv(\"/content/station_data.csv\")\n",
        "Trips = spark.read.option(\"header\",\"true\")\\\n",
        ".csv(\"/content/trip_data.csv\")"
      ],
      "metadata": {
        "id": "CwrARbDl1aSO"
      },
      "execution_count": 4,
      "outputs": []
    },
    {
      "cell_type": "markdown",
      "source": [
        "2) Dans la table des sommets (le DataFrame qui représente le fichier station_data.csv),\n",
        "renommer la colonne name en id."
      ],
      "metadata": {
        "id": "o0c9htDk19Rv"
      }
    },
    {
      "cell_type": "code",
      "source": [
        "stationsWId = Stations.withColumnRenamed(\"name\", \"id\").distinct()"
      ],
      "metadata": {
        "id": "1VykgPaL19y1"
      },
      "execution_count": 13,
      "outputs": []
    },
    {
      "cell_type": "markdown",
      "source": [
        "3) Dans la table des arcs (le DataFrame qui représente le fichier trip_data.csv), renommer\n",
        "la colonne Start Station en src et la colonne End Station en dst."
      ],
      "metadata": {
        "id": "5KctSGR32kEK"
      }
    },
    {
      "cell_type": "code",
      "source": [
        "tripSrcDst = Trips\\\n",
        ".withColumnRenamed(\"Start Station\", \"src\")\\\n",
        ".withColumnRenamed(\"End Station\", \"dst\")"
      ],
      "metadata": {
        "id": "bhxuRR0B2nD-"
      },
      "execution_count": 11,
      "outputs": []
    },
    {
      "cell_type": "markdown",
      "source": [
        "4) Créer un GraphFrame, qui représente notre graphe."
      ],
      "metadata": {
        "id": "-y-sEuIe3FMv"
      }
    },
    {
      "cell_type": "code",
      "source": [
        "from graphframes import GraphFrame\n",
        "stationGraph = GraphFrame(stationsWId, tripSrcDst)"
      ],
      "metadata": {
        "colab": {
          "base_uri": "https://localhost:8080/"
        },
        "id": "wK8-2Nd63HU6",
        "outputId": "de4c6d54-cf3c-4b25-8738-a396af3af963"
      },
      "execution_count": 14,
      "outputs": [
        {
          "output_type": "stream",
          "name": "stderr",
          "text": [
            "/usr/local/lib/python3.10/dist-packages/pyspark/sql/dataframe.py:168: UserWarning: DataFrame.sql_ctx is an internal property, and will be removed in future releases. Use DataFrame.sparkSession instead.\n",
            "  warnings.warn(\n"
          ]
        }
      ]
    },
    {
      "cell_type": "markdown",
      "source": [
        "5) Retourner le nombre de voyages effectués entre chaque source et destination triés par\n",
        "ordre décroissant (selon le nombre de voyages).\n"
      ],
      "metadata": {
        "id": "nemCu8RB3goi"
      }
    },
    {
      "cell_type": "code",
      "source": [
        "from pyspark.sql.functions import desc\n",
        "stationGraph.edges.groupBy(\"src\", \"dst\")\\\n",
        ".count().orderBy(desc(\"count\"))\\\n",
        ".show(10, False)"
      ],
      "metadata": {
        "colab": {
          "base_uri": "https://localhost:8080/"
        },
        "id": "gKHR63_o3hGF",
        "outputId": "80f46bff-8549-4bee-e726-3496567da94a"
      },
      "execution_count": 15,
      "outputs": [
        {
          "output_type": "stream",
          "name": "stdout",
          "text": [
            "+---------------------------------------+----------------------------------------+-----+\n",
            "|src                                    |dst                                     |count|\n",
            "+---------------------------------------+----------------------------------------+-----+\n",
            "|San Francisco Caltrain 2 (330 Townsend)|Townsend at 7th                         |4    |\n",
            "|5th at Howard                          |San Francisco Caltrain 2 (330 Townsend) |3    |\n",
            "|San Francisco Caltrain 2 (330 Townsend)|Powell Street BART                      |2    |\n",
            "|2nd at Townsend                        |Market at Sansome                       |2    |\n",
            "|Spear at Folsom                        |2nd at Townsend                         |2    |\n",
            "|Market at Sansome                      |Broadway St at Battery St               |2    |\n",
            "|Davis at Jackson                       |Embarcadero at Sansome                  |2    |\n",
            "|San Francisco Caltrain 2 (330 Townsend)|2nd at South Park                       |2    |\n",
            "|Steuart at Market                      |San Francisco Caltrain (Townsend at 4th)|2    |\n",
            "|Market at 4th                          |San Francisco Caltrain 2 (330 Townsend) |2    |\n",
            "+---------------------------------------+----------------------------------------+-----+\n",
            "only showing top 10 rows\n",
            "\n"
          ]
        }
      ]
    },
    {
      "cell_type": "markdown",
      "source": [
        "6) Retourner le nombre de voyages qui se commencent ou se terminent à partir de la\n",
        "station ‘Townsend at 7th’ triés par ordre décroissant (selon le nombre de voyages)."
      ],
      "metadata": {
        "id": "xXtAiux93oBg"
      }
    },
    {
      "cell_type": "code",
      "source": [
        "stationGraph.edges\\\n",
        ".where(\"src = 'Townsend at 7th' OR dst = 'Townsend at 7th'\")\\\n",
        ".groupBy(\"src\", \"dst\").count()\\\n",
        ".orderBy(desc(\"count\"))\\\n",
        ".show(10)"
      ],
      "metadata": {
        "colab": {
          "base_uri": "https://localhost:8080/"
        },
        "id": "CqTinPOk3qzd",
        "outputId": "472290d3-46d4-4519-dbf4-053d1bb13c9c"
      },
      "execution_count": 16,
      "outputs": [
        {
          "output_type": "stream",
          "name": "stdout",
          "text": [
            "+--------------------+--------------------+-----+\n",
            "|                 src|                 dst|count|\n",
            "+--------------------+--------------------+-----+\n",
            "|San Francisco Cal...|     Townsend at 7th|    4|\n",
            "|       5th at Howard|     Townsend at 7th|    1|\n",
            "|     Townsend at 7th|     Spear at Folsom|    1|\n",
            "|     Townsend at 7th|Harry Bridges Pla...|    1|\n",
            "|     Spear at Folsom|     Townsend at 7th|    1|\n",
            "|       Howard at 2nd|     Townsend at 7th|    1|\n",
            "+--------------------+--------------------+-----+\n",
            "\n"
          ]
        }
      ]
    },
    {
      "cell_type": "markdown",
      "source": [
        "7) Retourner les sommets qui n'ont jamais été une destination d'un voyage qui commence\n",
        "à partir de ' Spear at Folsom'."
      ],
      "metadata": {
        "id": "DIhASHmH4EGR"
      }
    },
    {
      "cell_type": "code",
      "source": [
        "# Requête avec la fonction subtract\n",
        "SpearFolsomDestinations = stationGraph \\\n",
        "    .edges \\\n",
        "    .where(\"src = 'Spear at Folsom'\") \\\n",
        "    .select(\"dst\") \\\n",
        "    .distinct()\n",
        "\n",
        "otherStations = stationGraph \\\n",
        "    .edges \\\n",
        "    .select(\"dst\") \\\n",
        "    .distinct() \\\n",
        "    .subtract(SpearFolsomDestinations)\n",
        "\n",
        "# Affichage des résultats\n",
        "otherStations.show(1000, False)"
      ],
      "metadata": {
        "colab": {
          "base_uri": "https://localhost:8080/"
        },
        "id": "Kq1eFvqW4EvQ",
        "outputId": "929ad13b-e963-4683-d6df-e863cc9b9eb1"
      },
      "execution_count": 17,
      "outputs": [
        {
          "output_type": "stream",
          "name": "stdout",
          "text": [
            "+---------------------------------------------+\n",
            "|dst                                          |\n",
            "+---------------------------------------------+\n",
            "|Powell at Post (Union Square)                |\n",
            "|Market at Sansome                            |\n",
            "|Spear at Folsom                              |\n",
            "|San Salvador at 1st                          |\n",
            "|Rengstorff Avenue / California Street        |\n",
            "|Civic Center BART (7th at Market)            |\n",
            "|Mountain View City Hall                      |\n",
            "|Market at 4th                                |\n",
            "|Temporary Transbay Terminal (Howard at Beale)|\n",
            "|Steuart at Market                            |\n",
            "|San Francisco City Hall                      |\n",
            "|South Van Ness at Market                     |\n",
            "|Embarcadero at Bryant                        |\n",
            "|Mountain View Caltrain Station               |\n",
            "|Powell Street BART                           |\n",
            "|Clay at Battery                              |\n",
            "|Market at 10th                               |\n",
            "|Broadway St at Battery St                    |\n",
            "|Beale at Market                              |\n",
            "|5th at Howard                                |\n",
            "|Grant Avenue at Columbus Avenue              |\n",
            "|Harry Bridges Plaza (Ferry Building)         |\n",
            "|Mechanics Plaza (Market at Battery)          |\n",
            "|Embarcadero at Sansome                       |\n",
            "|Castro Street and El Camino Real             |\n",
            "|Howard at 2nd                                |\n",
            "|2nd at South Park                            |\n",
            "|Cowper at University                         |\n",
            "|San Francisco Caltrain (Townsend at 4th)     |\n",
            "+---------------------------------------------+\n",
            "\n"
          ]
        }
      ]
    },
    {
      "cell_type": "markdown",
      "source": [
        "8) Retourner la station qui a le nombre maximum de voyages entrants.\n"
      ],
      "metadata": {
        "id": "Uu0Lyz6t4jDe"
      }
    },
    {
      "cell_type": "code",
      "source": [
        "from pyspark.sql.functions import desc\n",
        "stationGraph.inDegrees.orderBy(desc(\"inDegree\")).limit(1)\\\n",
        ".show(1, False)"
      ],
      "metadata": {
        "colab": {
          "base_uri": "https://localhost:8080/"
        },
        "id": "oKO23Xs64j_j",
        "outputId": "b1047375-aa0d-4c11-8b48-3e357c8433fe"
      },
      "execution_count": 18,
      "outputs": [
        {
          "output_type": "stream",
          "name": "stderr",
          "text": [
            "/usr/local/lib/python3.10/dist-packages/pyspark/sql/dataframe.py:147: UserWarning: DataFrame constructor is internal. Do not directly use it.\n",
            "  warnings.warn(\"DataFrame constructor is internal. Do not directly use it.\")\n"
          ]
        },
        {
          "output_type": "stream",
          "name": "stdout",
          "text": [
            "+---------------------------------------+--------+\n",
            "|id                                     |inDegree|\n",
            "+---------------------------------------+--------+\n",
            "|San Francisco Caltrain 2 (330 Townsend)|9       |\n",
            "+---------------------------------------+--------+\n",
            "\n"
          ]
        }
      ]
    },
    {
      "cell_type": "markdown",
      "source": [
        "9) Retourner le voyage qui a la plus grande durée"
      ],
      "metadata": {
        "id": "OcmX7rLD40G8"
      }
    },
    {
      "cell_type": "code",
      "source": [
        "stationGraph.edges.orderBy(desc(\"Duration\")).limit(1).show()"
      ],
      "metadata": {
        "colab": {
          "base_uri": "https://localhost:8080/"
        },
        "id": "wpwisUUb40p6",
        "outputId": "0fcc2342-f777-4384-ebf7-fac79dfd53b9"
      },
      "execution_count": 19,
      "outputs": [
        {
          "output_type": "stream",
          "name": "stdout",
          "text": [
            "+-------+--------+---------------+--------------+--------------+---------------+--------------------+------------+------+---------------+--------+\n",
            "|Trip ID|Duration|     Start Date|           src|Start Terminal|       End Date|                 dst|End Terminal|Bike #|Subscriber Type|Zip Code|\n",
            "+-------+--------+---------------+--------------+--------------+---------------+--------------------+------------+------+---------------+--------+\n",
            "| 913448|     932|8/31/2015 21:57|Post at Kearny|            47|8/31/2015 22:12|South Van Ness at...|          66|   472|     Subscriber|   94702|\n",
            "+-------+--------+---------------+--------------+--------------+---------------+--------------------+------------+------+---------------+--------+\n",
            "\n"
          ]
        }
      ]
    },
    {
      "cell_type": "markdown",
      "source": [
        "10)Créer un sous-graphe qui ne contient que les voyages qui se commencent ou se\n",
        "terminent à ‘Townsend at 7th’."
      ],
      "metadata": {
        "id": "RJ6Wm9rF4_9_"
      }
    },
    {
      "cell_type": "code",
      "source": [
        "townAnd7thEdges = stationGraph.edges\\\n",
        ".where(\"src = 'Townsend at 7th' OR dst = 'Townsend at 7th'\")\n",
        "\n",
        "subgraph = GraphFrame(stationGraph.vertices, townAnd7thEdges)"
      ],
      "metadata": {
        "id": "blWHMSbw5CGO"
      },
      "execution_count": 20,
      "outputs": []
    },
    {
      "cell_type": "markdown",
      "source": [
        "11) Retourner tous les chemins qui forment un motif en \"triangle\" entre trois stations."
      ],
      "metadata": {
        "id": "jaotIORR5IHK"
      }
    },
    {
      "cell_type": "code",
      "source": [
        "motifs = stationGraph.find(\"(a)-[ab]->(b); (b)-[bc]->(c); (c)-[ca]->(a)\")\n",
        "motifs.show(1000, False)"
      ],
      "metadata": {
        "colab": {
          "base_uri": "https://localhost:8080/"
        },
        "id": "0ii15R6e5Io5",
        "outputId": "3056225b-e7aa-49c7-aec4-e57b7ec4a8ed"
      },
      "execution_count": 21,
      "outputs": [
        {
          "output_type": "stream",
          "name": "stdout",
          "text": [
            "+------------------------------------------------------------------------------------------------+-------------------------------------------------------------------------------------------------------------------------------------------+------------------------------------------------------------------------------------------------+-------------------------------------------------------------------------------------------------------------------------------------------+------------------------------------------------------------------------------------------------+-------------------------------------------------------------------------------------------------------------------------------------------+\n",
            "|a                                                                                               |ab                                                                                                                                         |b                                                                                               |bc                                                                                                                                         |c                                                                                               |ca                                                                                                                                         |\n",
            "+------------------------------------------------------------------------------------------------+-------------------------------------------------------------------------------------------------------------------------------------------+------------------------------------------------------------------------------------------------+-------------------------------------------------------------------------------------------------------------------------------------------+------------------------------------------------------------------------------------------------+-------------------------------------------------------------------------------------------------------------------------------------------+\n",
            "|{60, Embarcadero at Sansome, 37.80477, -122.403234, 15, San Francisco, 8/21/2013}               |{913450, 255, 8/31/2015 22:16, Embarcadero at Sansome, 60, 8/31/2015 22:20, Steuart at Market, 74, 470, Subscriber, 94111}                 |{74, Steuart at Market, 37.794139, -122.394434, 23, San Francisco, 8/25/2013}                   |{913315, 518, 8/31/2015 19:33, Steuart at Market, 74, 8/31/2015 19:42, 2nd at Townsend, 61, 463, Subscriber, 94107}                        |{61, 2nd at Townsend, 37.780526, -122.390288, 27, San Francisco, 8/22/2013}                     |{913383, 1435, 8/31/2015 20:20, 2nd at Townsend, 61, 8/31/2015 20:44, Embarcadero at Sansome, 60, 604, Customer, 98103}                    |\n",
            "|{60, Embarcadero at Sansome, 37.80477, -122.403234, 15, San Francisco, 8/21/2013}               |{913443, 691, 8/31/2015 21:49, Embarcadero at Sansome, 60, 8/31/2015 22:01, Market at Sansome, 77, 434, Subscriber, 94109}                 |{77, Market at Sansome, 37.789625, -122.400811, 27, San Francisco, 8/25/2013}                   |{913403, 497, 8/31/2015 20:37, Market at Sansome, 77, 8/31/2015 20:45, 2nd at Townsend, 61, 359, Subscriber, 94105}                        |{61, 2nd at Townsend, 37.780526, -122.390288, 27, San Francisco, 8/22/2013}                     |{913383, 1435, 8/31/2015 20:20, 2nd at Townsend, 61, 8/31/2015 20:44, Embarcadero at Sansome, 60, 604, Customer, 98103}                    |\n",
            "|{69, San Francisco Caltrain 2 (330 Townsend), 37.7766, -122.39547, 23, San Francisco, 8/23/2013}|{913434, 283, 8/31/2015 21:19, San Francisco Caltrain 2 (330 Townsend), 69, 8/31/2015 21:24, Townsend at 7th, 65, 521, Subscriber, 94107}  |{65, Townsend at 7th, 37.771058, -122.402717, 15, San Francisco, 8/22/2013}                     |{913371, 663, 8/31/2015 20:10, Townsend at 7th, 65, 8/31/2015 20:21, Spear at Folsom, 49, 405, Subscriber, 94103}                          |{49, Spear at Folsom, 37.790302, -122.390637, 19, San Francisco, 8/20/2013}                     |{913432, 703, 8/31/2015 21:16, Spear at Folsom, 49, 8/31/2015 21:28, San Francisco Caltrain 2 (330 Townsend), 69, 426, Subscriber, 95032}  |\n",
            "|{49, Spear at Folsom, 37.790302, -122.390637, 19, San Francisco, 8/20/2013}                     |{913432, 703, 8/31/2015 21:16, Spear at Folsom, 49, 8/31/2015 21:28, San Francisco Caltrain 2 (330 Townsend), 69, 426, Subscriber, 95032}  |{69, San Francisco Caltrain 2 (330 Townsend), 37.7766, -122.39547, 23, San Francisco, 8/23/2013}|{913308, 185, 8/31/2015 19:30, San Francisco Caltrain 2 (330 Townsend), 69, 8/31/2015 19:33, 2nd at Townsend, 61, 541, Subscriber, 94158}  |{61, 2nd at Townsend, 37.780526, -122.390288, 27, San Francisco, 8/22/2013}                     |{913297, 501, 8/31/2015 19:21, 2nd at Townsend, 61, 8/31/2015 19:29, Spear at Folsom, 49, 607, Subscriber, 94107}                          |\n",
            "|{49, Spear at Folsom, 37.790302, -122.390637, 19, San Francisco, 8/20/2013}                     |{913432, 703, 8/31/2015 21:16, Spear at Folsom, 49, 8/31/2015 21:28, San Francisco Caltrain 2 (330 Townsend), 69, 426, Subscriber, 95032}  |{69, San Francisco Caltrain 2 (330 Townsend), 37.7766, -122.39547, 23, San Francisco, 8/23/2013}|{913316, 300, 8/31/2015 19:34, San Francisco Caltrain 2 (330 Townsend), 69, 8/31/2015 19:39, Townsend at 7th, 65, 368, Subscriber, 94107}  |{65, Townsend at 7th, 37.771058, -122.402717, 15, San Francisco, 8/22/2013}                     |{913371, 663, 8/31/2015 20:10, Townsend at 7th, 65, 8/31/2015 20:21, Spear at Folsom, 49, 405, Subscriber, 94103}                          |\n",
            "|{49, Spear at Folsom, 37.790302, -122.390637, 19, San Francisco, 8/20/2013}                     |{913432, 703, 8/31/2015 21:16, Spear at Folsom, 49, 8/31/2015 21:28, San Francisco Caltrain 2 (330 Townsend), 69, 426, Subscriber, 95032}  |{69, San Francisco Caltrain 2 (330 Townsend), 37.7766, -122.39547, 23, San Francisco, 8/23/2013}|{913324, 375, 8/31/2015 19:41, San Francisco Caltrain 2 (330 Townsend), 69, 8/31/2015 19:47, 2nd at South Park, 64, 558, Subscriber, 94105}|{64, 2nd at South Park, 37.782259, -122.392738, 15, San Francisco, 8/22/2013}                   |{913303, 296, 8/31/2015 19:27, 2nd at South Park, 64, 8/31/2015 19:32, Spear at Folsom, 49, 672, Subscriber, 94105}                        |\n",
            "|{49, Spear at Folsom, 37.790302, -122.390637, 19, San Francisco, 8/20/2013}                     |{913432, 703, 8/31/2015 21:16, Spear at Folsom, 49, 8/31/2015 21:28, San Francisco Caltrain 2 (330 Townsend), 69, 426, Subscriber, 95032}  |{69, San Francisco Caltrain 2 (330 Townsend), 37.7766, -122.39547, 23, San Francisco, 8/23/2013}|{913337, 384, 8/31/2015 19:47, San Francisco Caltrain 2 (330 Townsend), 69, 8/31/2015 19:54, 2nd at South Park, 64, 277, Subscriber, 94107}|{64, 2nd at South Park, 37.782259, -122.392738, 15, San Francisco, 8/22/2013}                   |{913303, 296, 8/31/2015 19:27, 2nd at South Park, 64, 8/31/2015 19:32, Spear at Folsom, 49, 672, Subscriber, 94105}                        |\n",
            "|{49, Spear at Folsom, 37.790302, -122.390637, 19, San Francisco, 8/20/2013}                     |{913432, 703, 8/31/2015 21:16, Spear at Folsom, 49, 8/31/2015 21:28, San Francisco Caltrain 2 (330 Townsend), 69, 426, Subscriber, 95032}  |{69, San Francisco Caltrain 2 (330 Townsend), 37.7766, -122.39547, 23, San Francisco, 8/23/2013}|{913361, 236, 8/31/2015 20:05, San Francisco Caltrain 2 (330 Townsend), 69, 8/31/2015 20:09, Townsend at 7th, 65, 270, Subscriber, 94107}  |{65, Townsend at 7th, 37.771058, -122.402717, 15, San Francisco, 8/22/2013}                     |{913371, 663, 8/31/2015 20:10, Townsend at 7th, 65, 8/31/2015 20:21, Spear at Folsom, 49, 405, Subscriber, 94103}                          |\n",
            "|{49, Spear at Folsom, 37.790302, -122.390637, 19, San Francisco, 8/20/2013}                     |{913432, 703, 8/31/2015 21:16, Spear at Folsom, 49, 8/31/2015 21:28, San Francisco Caltrain 2 (330 Townsend), 69, 426, Subscriber, 95032}  |{69, San Francisco Caltrain 2 (330 Townsend), 37.7766, -122.39547, 23, San Francisco, 8/23/2013}|{913404, 273, 8/31/2015 20:39, San Francisco Caltrain 2 (330 Townsend), 69, 8/31/2015 20:44, Townsend at 7th, 65, 287, Subscriber, 94107}  |{65, Townsend at 7th, 37.771058, -122.402717, 15, San Francisco, 8/22/2013}                     |{913371, 663, 8/31/2015 20:10, Townsend at 7th, 65, 8/31/2015 20:21, Spear at Folsom, 49, 405, Subscriber, 94103}                          |\n",
            "|{49, Spear at Folsom, 37.790302, -122.390637, 19, San Francisco, 8/20/2013}                     |{913432, 703, 8/31/2015 21:16, Spear at Folsom, 49, 8/31/2015 21:28, San Francisco Caltrain 2 (330 Townsend), 69, 426, Subscriber, 95032}  |{69, San Francisco Caltrain 2 (330 Townsend), 37.7766, -122.39547, 23, San Francisco, 8/23/2013}|{913434, 283, 8/31/2015 21:19, San Francisco Caltrain 2 (330 Townsend), 69, 8/31/2015 21:24, Townsend at 7th, 65, 521, Subscriber, 94107}  |{65, Townsend at 7th, 37.771058, -122.402717, 15, San Francisco, 8/22/2013}                     |{913371, 663, 8/31/2015 20:10, Townsend at 7th, 65, 8/31/2015 20:21, Spear at Folsom, 49, 405, Subscriber, 94103}                          |\n",
            "|{69, San Francisco Caltrain 2 (330 Townsend), 37.7766, -122.39547, 23, San Francisco, 8/23/2013}|{913404, 273, 8/31/2015 20:39, San Francisco Caltrain 2 (330 Townsend), 69, 8/31/2015 20:44, Townsend at 7th, 65, 287, Subscriber, 94107}  |{65, Townsend at 7th, 37.771058, -122.402717, 15, San Francisco, 8/22/2013}                     |{913371, 663, 8/31/2015 20:10, Townsend at 7th, 65, 8/31/2015 20:21, Spear at Folsom, 49, 405, Subscriber, 94103}                          |{49, Spear at Folsom, 37.790302, -122.390637, 19, San Francisco, 8/20/2013}                     |{913432, 703, 8/31/2015 21:16, Spear at Folsom, 49, 8/31/2015 21:28, San Francisco Caltrain 2 (330 Townsend), 69, 426, Subscriber, 95032}  |\n",
            "|{77, Market at Sansome, 37.789625, -122.400811, 27, San Francisco, 8/25/2013}                   |{913403, 497, 8/31/2015 20:37, Market at Sansome, 77, 8/31/2015 20:45, 2nd at Townsend, 61, 359, Subscriber, 94105}                        |{61, 2nd at Townsend, 37.780526, -122.390288, 27, San Francisco, 8/22/2013}                     |{913309, 344, 8/31/2015 19:30, 2nd at Townsend, 61, 8/31/2015 19:36, Howard at 2nd, 63, 501, Subscriber, 94965}                            |{63, Howard at 2nd, 37.786978, -122.398108, 19, San Francisco, 8/22/2013}                       |{913311, 144, 8/31/2015 19:31, Howard at 2nd, 63, 8/31/2015 19:33, Market at Sansome, 77, 282, Subscriber, 94105}                          |\n",
            "|{77, Market at Sansome, 37.789625, -122.400811, 27, San Francisco, 8/25/2013}                   |{913403, 497, 8/31/2015 20:37, Market at Sansome, 77, 8/31/2015 20:45, 2nd at Townsend, 61, 359, Subscriber, 94105}                        |{61, 2nd at Townsend, 37.780526, -122.390288, 27, San Francisco, 8/22/2013}                     |{913383, 1435, 8/31/2015 20:20, 2nd at Townsend, 61, 8/31/2015 20:44, Embarcadero at Sansome, 60, 604, Customer, 98103}                    |{60, Embarcadero at Sansome, 37.80477, -122.403234, 15, San Francisco, 8/21/2013}               |{913443, 691, 8/31/2015 21:49, Embarcadero at Sansome, 60, 8/31/2015 22:01, Market at Sansome, 77, 434, Subscriber, 94109}                 |\n",
            "|{61, 2nd at Townsend, 37.780526, -122.390288, 27, San Francisco, 8/22/2013}                     |{913383, 1435, 8/31/2015 20:20, 2nd at Townsend, 61, 8/31/2015 20:44, Embarcadero at Sansome, 60, 604, Customer, 98103}                    |{60, Embarcadero at Sansome, 37.80477, -122.403234, 15, San Francisco, 8/21/2013}               |{913443, 691, 8/31/2015 21:49, Embarcadero at Sansome, 60, 8/31/2015 22:01, Market at Sansome, 77, 434, Subscriber, 94109}                 |{77, Market at Sansome, 37.789625, -122.400811, 27, San Francisco, 8/25/2013}                   |{913403, 497, 8/31/2015 20:37, Market at Sansome, 77, 8/31/2015 20:45, 2nd at Townsend, 61, 359, Subscriber, 94105}                        |\n",
            "|{61, 2nd at Townsend, 37.780526, -122.390288, 27, San Francisco, 8/22/2013}                     |{913383, 1435, 8/31/2015 20:20, 2nd at Townsend, 61, 8/31/2015 20:44, Embarcadero at Sansome, 60, 604, Customer, 98103}                    |{60, Embarcadero at Sansome, 37.80477, -122.403234, 15, San Francisco, 8/21/2013}               |{913450, 255, 8/31/2015 22:16, Embarcadero at Sansome, 60, 8/31/2015 22:20, Steuart at Market, 74, 470, Subscriber, 94111}                 |{74, Steuart at Market, 37.794139, -122.394434, 23, San Francisco, 8/25/2013}                   |{913315, 518, 8/31/2015 19:33, Steuart at Market, 74, 8/31/2015 19:42, 2nd at Townsend, 61, 463, Subscriber, 94107}                        |\n",
            "|{65, Townsend at 7th, 37.771058, -122.402717, 15, San Francisco, 8/22/2013}                     |{913371, 663, 8/31/2015 20:10, Townsend at 7th, 65, 8/31/2015 20:21, Spear at Folsom, 49, 405, Subscriber, 94103}                          |{49, Spear at Folsom, 37.790302, -122.390637, 19, San Francisco, 8/20/2013}                     |{913432, 703, 8/31/2015 21:16, Spear at Folsom, 49, 8/31/2015 21:28, San Francisco Caltrain 2 (330 Townsend), 69, 426, Subscriber, 95032}  |{69, San Francisco Caltrain 2 (330 Townsend), 37.7766, -122.39547, 23, San Francisco, 8/23/2013}|{913316, 300, 8/31/2015 19:34, San Francisco Caltrain 2 (330 Townsend), 69, 8/31/2015 19:39, Townsend at 7th, 65, 368, Subscriber, 94107}  |\n",
            "|{65, Townsend at 7th, 37.771058, -122.402717, 15, San Francisco, 8/22/2013}                     |{913371, 663, 8/31/2015 20:10, Townsend at 7th, 65, 8/31/2015 20:21, Spear at Folsom, 49, 405, Subscriber, 94103}                          |{49, Spear at Folsom, 37.790302, -122.390637, 19, San Francisco, 8/20/2013}                     |{913432, 703, 8/31/2015 21:16, Spear at Folsom, 49, 8/31/2015 21:28, San Francisco Caltrain 2 (330 Townsend), 69, 426, Subscriber, 95032}  |{69, San Francisco Caltrain 2 (330 Townsend), 37.7766, -122.39547, 23, San Francisco, 8/23/2013}|{913361, 236, 8/31/2015 20:05, San Francisco Caltrain 2 (330 Townsend), 69, 8/31/2015 20:09, Townsend at 7th, 65, 270, Subscriber, 94107}  |\n",
            "|{65, Townsend at 7th, 37.771058, -122.402717, 15, San Francisco, 8/22/2013}                     |{913371, 663, 8/31/2015 20:10, Townsend at 7th, 65, 8/31/2015 20:21, Spear at Folsom, 49, 405, Subscriber, 94103}                          |{49, Spear at Folsom, 37.790302, -122.390637, 19, San Francisco, 8/20/2013}                     |{913432, 703, 8/31/2015 21:16, Spear at Folsom, 49, 8/31/2015 21:28, San Francisco Caltrain 2 (330 Townsend), 69, 426, Subscriber, 95032}  |{69, San Francisco Caltrain 2 (330 Townsend), 37.7766, -122.39547, 23, San Francisco, 8/23/2013}|{913404, 273, 8/31/2015 20:39, San Francisco Caltrain 2 (330 Townsend), 69, 8/31/2015 20:44, Townsend at 7th, 65, 287, Subscriber, 94107}  |\n",
            "|{65, Townsend at 7th, 37.771058, -122.402717, 15, San Francisco, 8/22/2013}                     |{913371, 663, 8/31/2015 20:10, Townsend at 7th, 65, 8/31/2015 20:21, Spear at Folsom, 49, 405, Subscriber, 94103}                          |{49, Spear at Folsom, 37.790302, -122.390637, 19, San Francisco, 8/20/2013}                     |{913432, 703, 8/31/2015 21:16, Spear at Folsom, 49, 8/31/2015 21:28, San Francisco Caltrain 2 (330 Townsend), 69, 426, Subscriber, 95032}  |{69, San Francisco Caltrain 2 (330 Townsend), 37.7766, -122.39547, 23, San Francisco, 8/23/2013}|{913434, 283, 8/31/2015 21:19, San Francisco Caltrain 2 (330 Townsend), 69, 8/31/2015 21:24, Townsend at 7th, 65, 521, Subscriber, 94107}  |\n",
            "|{63, Howard at 2nd, 37.786978, -122.398108, 19, San Francisco, 8/22/2013}                       |{913363, 489, 8/31/2015 20:06, Howard at 2nd, 63, 8/31/2015 20:14, San Francisco Caltrain 2 (330 Townsend), 69, 465, Subscriber, 94070}    |{69, San Francisco Caltrain 2 (330 Townsend), 37.7766, -122.39547, 23, San Francisco, 8/23/2013}|{913308, 185, 8/31/2015 19:30, San Francisco Caltrain 2 (330 Townsend), 69, 8/31/2015 19:33, 2nd at Townsend, 61, 541, Subscriber, 94158}  |{61, 2nd at Townsend, 37.780526, -122.390288, 27, San Francisco, 8/22/2013}                     |{913309, 344, 8/31/2015 19:30, 2nd at Townsend, 61, 8/31/2015 19:36, Howard at 2nd, 63, 501, Subscriber, 94965}                            |\n",
            "|{63, Howard at 2nd, 37.786978, -122.398108, 19, San Francisco, 8/22/2013}                       |{913363, 489, 8/31/2015 20:06, Howard at 2nd, 63, 8/31/2015 20:14, San Francisco Caltrain 2 (330 Townsend), 69, 465, Subscriber, 94070}    |{69, San Francisco Caltrain 2 (330 Townsend), 37.7766, -122.39547, 23, San Francisco, 8/23/2013}|{913324, 375, 8/31/2015 19:41, San Francisco Caltrain 2 (330 Townsend), 69, 8/31/2015 19:47, 2nd at South Park, 64, 558, Subscriber, 94105}|{64, 2nd at South Park, 37.782259, -122.392738, 15, San Francisco, 8/22/2013}                   |{913294, 213, 8/31/2015 19:19, 2nd at South Park, 64, 8/31/2015 19:23, Howard at 2nd, 63, 193, Subscriber, 94107}                          |\n",
            "|{63, Howard at 2nd, 37.786978, -122.398108, 19, San Francisco, 8/22/2013}                       |{913363, 489, 8/31/2015 20:06, Howard at 2nd, 63, 8/31/2015 20:14, San Francisco Caltrain 2 (330 Townsend), 69, 465, Subscriber, 94070}    |{69, San Francisco Caltrain 2 (330 Townsend), 37.7766, -122.39547, 23, San Francisco, 8/23/2013}|{913337, 384, 8/31/2015 19:47, San Francisco Caltrain 2 (330 Townsend), 69, 8/31/2015 19:54, 2nd at South Park, 64, 277, Subscriber, 94107}|{64, 2nd at South Park, 37.782259, -122.392738, 15, San Francisco, 8/22/2013}                   |{913294, 213, 8/31/2015 19:19, 2nd at South Park, 64, 8/31/2015 19:23, Howard at 2nd, 63, 193, Subscriber, 94107}                          |\n",
            "|{69, San Francisco Caltrain 2 (330 Townsend), 37.7766, -122.39547, 23, San Francisco, 8/23/2013}|{913361, 236, 8/31/2015 20:05, San Francisco Caltrain 2 (330 Townsend), 69, 8/31/2015 20:09, Townsend at 7th, 65, 270, Subscriber, 94107}  |{65, Townsend at 7th, 37.771058, -122.402717, 15, San Francisco, 8/22/2013}                     |{913371, 663, 8/31/2015 20:10, Townsend at 7th, 65, 8/31/2015 20:21, Spear at Folsom, 49, 405, Subscriber, 94103}                          |{49, Spear at Folsom, 37.790302, -122.390637, 19, San Francisco, 8/20/2013}                     |{913432, 703, 8/31/2015 21:16, Spear at Folsom, 49, 8/31/2015 21:28, San Francisco Caltrain 2 (330 Townsend), 69, 426, Subscriber, 95032}  |\n",
            "|{63, Howard at 2nd, 37.786978, -122.398108, 19, San Francisco, 8/22/2013}                       |{913351, 290, 8/31/2015 20:01, Howard at 2nd, 63, 8/31/2015 20:06, Market at 4th, 76, 401, Subscriber, 94107}                              |{76, Market at 4th, 37.786305, -122.404966, 19, San Francisco, 8/25/2013}                       |{913320, 792, 8/31/2015 19:39, Market at 4th, 76, 8/31/2015 19:53, 2nd at Townsend, 61, 437, Subscriber, 94107}                            |{61, 2nd at Townsend, 37.780526, -122.390288, 27, San Francisco, 8/22/2013}                     |{913309, 344, 8/31/2015 19:30, 2nd at Townsend, 61, 8/31/2015 19:36, Howard at 2nd, 63, 501, Subscriber, 94965}                            |\n",
            "|{69, San Francisco Caltrain 2 (330 Townsend), 37.7766, -122.39547, 23, San Francisco, 8/23/2013}|{913337, 384, 8/31/2015 19:47, San Francisco Caltrain 2 (330 Townsend), 69, 8/31/2015 19:54, 2nd at South Park, 64, 277, Subscriber, 94107}|{64, 2nd at South Park, 37.782259, -122.392738, 15, San Francisco, 8/22/2013}                   |{913294, 213, 8/31/2015 19:19, 2nd at South Park, 64, 8/31/2015 19:23, Howard at 2nd, 63, 193, Subscriber, 94107}                          |{63, Howard at 2nd, 37.786978, -122.398108, 19, San Francisco, 8/22/2013}                       |{913363, 489, 8/31/2015 20:06, Howard at 2nd, 63, 8/31/2015 20:14, San Francisco Caltrain 2 (330 Townsend), 69, 465, Subscriber, 94070}    |\n",
            "|{69, San Francisco Caltrain 2 (330 Townsend), 37.7766, -122.39547, 23, San Francisco, 8/23/2013}|{913337, 384, 8/31/2015 19:47, San Francisco Caltrain 2 (330 Townsend), 69, 8/31/2015 19:54, 2nd at South Park, 64, 277, Subscriber, 94107}|{64, 2nd at South Park, 37.782259, -122.392738, 15, San Francisco, 8/22/2013}                   |{913303, 296, 8/31/2015 19:27, 2nd at South Park, 64, 8/31/2015 19:32, Spear at Folsom, 49, 672, Subscriber, 94105}                        |{49, Spear at Folsom, 37.790302, -122.390637, 19, San Francisco, 8/20/2013}                     |{913432, 703, 8/31/2015 21:16, Spear at Folsom, 49, 8/31/2015 21:28, San Francisco Caltrain 2 (330 Townsend), 69, 426, Subscriber, 95032}  |\n",
            "|{69, San Francisco Caltrain 2 (330 Townsend), 37.7766, -122.39547, 23, San Francisco, 8/23/2013}|{913324, 375, 8/31/2015 19:41, San Francisco Caltrain 2 (330 Townsend), 69, 8/31/2015 19:47, 2nd at South Park, 64, 558, Subscriber, 94105}|{64, 2nd at South Park, 37.782259, -122.392738, 15, San Francisco, 8/22/2013}                   |{913294, 213, 8/31/2015 19:19, 2nd at South Park, 64, 8/31/2015 19:23, Howard at 2nd, 63, 193, Subscriber, 94107}                          |{63, Howard at 2nd, 37.786978, -122.398108, 19, San Francisco, 8/22/2013}                       |{913363, 489, 8/31/2015 20:06, Howard at 2nd, 63, 8/31/2015 20:14, San Francisco Caltrain 2 (330 Townsend), 69, 465, Subscriber, 94070}    |\n",
            "|{69, San Francisco Caltrain 2 (330 Townsend), 37.7766, -122.39547, 23, San Francisco, 8/23/2013}|{913324, 375, 8/31/2015 19:41, San Francisco Caltrain 2 (330 Townsend), 69, 8/31/2015 19:47, 2nd at South Park, 64, 558, Subscriber, 94105}|{64, 2nd at South Park, 37.782259, -122.392738, 15, San Francisco, 8/22/2013}                   |{913303, 296, 8/31/2015 19:27, 2nd at South Park, 64, 8/31/2015 19:32, Spear at Folsom, 49, 672, Subscriber, 94105}                        |{49, Spear at Folsom, 37.790302, -122.390637, 19, San Francisco, 8/20/2013}                     |{913432, 703, 8/31/2015 21:16, Spear at Folsom, 49, 8/31/2015 21:28, San Francisco Caltrain 2 (330 Townsend), 69, 426, Subscriber, 95032}  |\n",
            "|{76, Market at 4th, 37.786305, -122.404966, 19, San Francisco, 8/25/2013}                       |{913320, 792, 8/31/2015 19:39, Market at 4th, 76, 8/31/2015 19:53, 2nd at Townsend, 61, 437, Subscriber, 94107}                            |{61, 2nd at Townsend, 37.780526, -122.390288, 27, San Francisco, 8/22/2013}                     |{913309, 344, 8/31/2015 19:30, 2nd at Townsend, 61, 8/31/2015 19:36, Howard at 2nd, 63, 501, Subscriber, 94965}                            |{63, Howard at 2nd, 37.786978, -122.398108, 19, San Francisco, 8/22/2013}                       |{913351, 290, 8/31/2015 20:01, Howard at 2nd, 63, 8/31/2015 20:06, Market at 4th, 76, 401, Subscriber, 94107}                              |\n",
            "|{69, San Francisco Caltrain 2 (330 Townsend), 37.7766, -122.39547, 23, San Francisco, 8/23/2013}|{913316, 300, 8/31/2015 19:34, San Francisco Caltrain 2 (330 Townsend), 69, 8/31/2015 19:39, Townsend at 7th, 65, 368, Subscriber, 94107}  |{65, Townsend at 7th, 37.771058, -122.402717, 15, San Francisco, 8/22/2013}                     |{913371, 663, 8/31/2015 20:10, Townsend at 7th, 65, 8/31/2015 20:21, Spear at Folsom, 49, 405, Subscriber, 94103}                          |{49, Spear at Folsom, 37.790302, -122.390637, 19, San Francisco, 8/20/2013}                     |{913432, 703, 8/31/2015 21:16, Spear at Folsom, 49, 8/31/2015 21:28, San Francisco Caltrain 2 (330 Townsend), 69, 426, Subscriber, 95032}  |\n",
            "|{74, Steuart at Market, 37.794139, -122.394434, 23, San Francisco, 8/25/2013}                   |{913315, 518, 8/31/2015 19:33, Steuart at Market, 74, 8/31/2015 19:42, 2nd at Townsend, 61, 463, Subscriber, 94107}                        |{61, 2nd at Townsend, 37.780526, -122.390288, 27, San Francisco, 8/22/2013}                     |{913383, 1435, 8/31/2015 20:20, 2nd at Townsend, 61, 8/31/2015 20:44, Embarcadero at Sansome, 60, 604, Customer, 98103}                    |{60, Embarcadero at Sansome, 37.80477, -122.403234, 15, San Francisco, 8/21/2013}               |{913450, 255, 8/31/2015 22:16, Embarcadero at Sansome, 60, 8/31/2015 22:20, Steuart at Market, 74, 470, Subscriber, 94111}                 |\n",
            "|{63, Howard at 2nd, 37.786978, -122.398108, 19, San Francisco, 8/22/2013}                       |{913311, 144, 8/31/2015 19:31, Howard at 2nd, 63, 8/31/2015 19:33, Market at Sansome, 77, 282, Subscriber, 94105}                          |{77, Market at Sansome, 37.789625, -122.400811, 27, San Francisco, 8/25/2013}                   |{913403, 497, 8/31/2015 20:37, Market at Sansome, 77, 8/31/2015 20:45, 2nd at Townsend, 61, 359, Subscriber, 94105}                        |{61, 2nd at Townsend, 37.780526, -122.390288, 27, San Francisco, 8/22/2013}                     |{913309, 344, 8/31/2015 19:30, 2nd at Townsend, 61, 8/31/2015 19:36, Howard at 2nd, 63, 501, Subscriber, 94965}                            |\n",
            "|{61, 2nd at Townsend, 37.780526, -122.390288, 27, San Francisco, 8/22/2013}                     |{913309, 344, 8/31/2015 19:30, 2nd at Townsend, 61, 8/31/2015 19:36, Howard at 2nd, 63, 501, Subscriber, 94965}                            |{63, Howard at 2nd, 37.786978, -122.398108, 19, San Francisco, 8/22/2013}                       |{913311, 144, 8/31/2015 19:31, Howard at 2nd, 63, 8/31/2015 19:33, Market at Sansome, 77, 282, Subscriber, 94105}                          |{77, Market at Sansome, 37.789625, -122.400811, 27, San Francisco, 8/25/2013}                   |{913403, 497, 8/31/2015 20:37, Market at Sansome, 77, 8/31/2015 20:45, 2nd at Townsend, 61, 359, Subscriber, 94105}                        |\n",
            "|{61, 2nd at Townsend, 37.780526, -122.390288, 27, San Francisco, 8/22/2013}                     |{913309, 344, 8/31/2015 19:30, 2nd at Townsend, 61, 8/31/2015 19:36, Howard at 2nd, 63, 501, Subscriber, 94965}                            |{63, Howard at 2nd, 37.786978, -122.398108, 19, San Francisco, 8/22/2013}                       |{913351, 290, 8/31/2015 20:01, Howard at 2nd, 63, 8/31/2015 20:06, Market at 4th, 76, 401, Subscriber, 94107}                              |{76, Market at 4th, 37.786305, -122.404966, 19, San Francisco, 8/25/2013}                       |{913320, 792, 8/31/2015 19:39, Market at 4th, 76, 8/31/2015 19:53, 2nd at Townsend, 61, 437, Subscriber, 94107}                            |\n",
            "|{61, 2nd at Townsend, 37.780526, -122.390288, 27, San Francisco, 8/22/2013}                     |{913309, 344, 8/31/2015 19:30, 2nd at Townsend, 61, 8/31/2015 19:36, Howard at 2nd, 63, 501, Subscriber, 94965}                            |{63, Howard at 2nd, 37.786978, -122.398108, 19, San Francisco, 8/22/2013}                       |{913363, 489, 8/31/2015 20:06, Howard at 2nd, 63, 8/31/2015 20:14, San Francisco Caltrain 2 (330 Townsend), 69, 465, Subscriber, 94070}    |{69, San Francisco Caltrain 2 (330 Townsend), 37.7766, -122.39547, 23, San Francisco, 8/23/2013}|{913308, 185, 8/31/2015 19:30, San Francisco Caltrain 2 (330 Townsend), 69, 8/31/2015 19:33, 2nd at Townsend, 61, 541, Subscriber, 94158}  |\n",
            "|{69, San Francisco Caltrain 2 (330 Townsend), 37.7766, -122.39547, 23, San Francisco, 8/23/2013}|{913308, 185, 8/31/2015 19:30, San Francisco Caltrain 2 (330 Townsend), 69, 8/31/2015 19:33, 2nd at Townsend, 61, 541, Subscriber, 94158}  |{61, 2nd at Townsend, 37.780526, -122.390288, 27, San Francisco, 8/22/2013}                     |{913297, 501, 8/31/2015 19:21, 2nd at Townsend, 61, 8/31/2015 19:29, Spear at Folsom, 49, 607, Subscriber, 94107}                          |{49, Spear at Folsom, 37.790302, -122.390637, 19, San Francisco, 8/20/2013}                     |{913432, 703, 8/31/2015 21:16, Spear at Folsom, 49, 8/31/2015 21:28, San Francisco Caltrain 2 (330 Townsend), 69, 426, Subscriber, 95032}  |\n",
            "|{69, San Francisco Caltrain 2 (330 Townsend), 37.7766, -122.39547, 23, San Francisco, 8/23/2013}|{913308, 185, 8/31/2015 19:30, San Francisco Caltrain 2 (330 Townsend), 69, 8/31/2015 19:33, 2nd at Townsend, 61, 541, Subscriber, 94158}  |{61, 2nd at Townsend, 37.780526, -122.390288, 27, San Francisco, 8/22/2013}                     |{913309, 344, 8/31/2015 19:30, 2nd at Townsend, 61, 8/31/2015 19:36, Howard at 2nd, 63, 501, Subscriber, 94965}                            |{63, Howard at 2nd, 37.786978, -122.398108, 19, San Francisco, 8/22/2013}                       |{913363, 489, 8/31/2015 20:06, Howard at 2nd, 63, 8/31/2015 20:14, San Francisco Caltrain 2 (330 Townsend), 69, 465, Subscriber, 94070}    |\n",
            "|{64, 2nd at South Park, 37.782259, -122.392738, 15, San Francisco, 8/22/2013}                   |{913303, 296, 8/31/2015 19:27, 2nd at South Park, 64, 8/31/2015 19:32, Spear at Folsom, 49, 672, Subscriber, 94105}                        |{49, Spear at Folsom, 37.790302, -122.390637, 19, San Francisco, 8/20/2013}                     |{913432, 703, 8/31/2015 21:16, Spear at Folsom, 49, 8/31/2015 21:28, San Francisco Caltrain 2 (330 Townsend), 69, 426, Subscriber, 95032}  |{69, San Francisco Caltrain 2 (330 Townsend), 37.7766, -122.39547, 23, San Francisco, 8/23/2013}|{913324, 375, 8/31/2015 19:41, San Francisco Caltrain 2 (330 Townsend), 69, 8/31/2015 19:47, 2nd at South Park, 64, 558, Subscriber, 94105}|\n",
            "|{64, 2nd at South Park, 37.782259, -122.392738, 15, San Francisco, 8/22/2013}                   |{913303, 296, 8/31/2015 19:27, 2nd at South Park, 64, 8/31/2015 19:32, Spear at Folsom, 49, 672, Subscriber, 94105}                        |{49, Spear at Folsom, 37.790302, -122.390637, 19, San Francisco, 8/20/2013}                     |{913432, 703, 8/31/2015 21:16, Spear at Folsom, 49, 8/31/2015 21:28, San Francisco Caltrain 2 (330 Townsend), 69, 426, Subscriber, 95032}  |{69, San Francisco Caltrain 2 (330 Townsend), 37.7766, -122.39547, 23, San Francisco, 8/23/2013}|{913337, 384, 8/31/2015 19:47, San Francisco Caltrain 2 (330 Townsend), 69, 8/31/2015 19:54, 2nd at South Park, 64, 277, Subscriber, 94107}|\n",
            "|{61, 2nd at Townsend, 37.780526, -122.390288, 27, San Francisco, 8/22/2013}                     |{913297, 501, 8/31/2015 19:21, 2nd at Townsend, 61, 8/31/2015 19:29, Spear at Folsom, 49, 607, Subscriber, 94107}                          |{49, Spear at Folsom, 37.790302, -122.390637, 19, San Francisco, 8/20/2013}                     |{913432, 703, 8/31/2015 21:16, Spear at Folsom, 49, 8/31/2015 21:28, San Francisco Caltrain 2 (330 Townsend), 69, 426, Subscriber, 95032}  |{69, San Francisco Caltrain 2 (330 Townsend), 37.7766, -122.39547, 23, San Francisco, 8/23/2013}|{913308, 185, 8/31/2015 19:30, San Francisco Caltrain 2 (330 Townsend), 69, 8/31/2015 19:33, 2nd at Townsend, 61, 541, Subscriber, 94158}  |\n",
            "|{64, 2nd at South Park, 37.782259, -122.392738, 15, San Francisco, 8/22/2013}                   |{913294, 213, 8/31/2015 19:19, 2nd at South Park, 64, 8/31/2015 19:23, Howard at 2nd, 63, 193, Subscriber, 94107}                          |{63, Howard at 2nd, 37.786978, -122.398108, 19, San Francisco, 8/22/2013}                       |{913363, 489, 8/31/2015 20:06, Howard at 2nd, 63, 8/31/2015 20:14, San Francisco Caltrain 2 (330 Townsend), 69, 465, Subscriber, 94070}    |{69, San Francisco Caltrain 2 (330 Townsend), 37.7766, -122.39547, 23, San Francisco, 8/23/2013}|{913324, 375, 8/31/2015 19:41, San Francisco Caltrain 2 (330 Townsend), 69, 8/31/2015 19:47, 2nd at South Park, 64, 558, Subscriber, 94105}|\n",
            "|{64, 2nd at South Park, 37.782259, -122.392738, 15, San Francisco, 8/22/2013}                   |{913294, 213, 8/31/2015 19:19, 2nd at South Park, 64, 8/31/2015 19:23, Howard at 2nd, 63, 193, Subscriber, 94107}                          |{63, Howard at 2nd, 37.786978, -122.398108, 19, San Francisco, 8/22/2013}                       |{913363, 489, 8/31/2015 20:06, Howard at 2nd, 63, 8/31/2015 20:14, San Francisco Caltrain 2 (330 Townsend), 69, 465, Subscriber, 94070}    |{69, San Francisco Caltrain 2 (330 Townsend), 37.7766, -122.39547, 23, San Francisco, 8/23/2013}|{913337, 384, 8/31/2015 19:47, San Francisco Caltrain 2 (330 Townsend), 69, 8/31/2015 19:54, 2nd at South Park, 64, 277, Subscriber, 94107}|\n",
            "+------------------------------------------------------------------------------------------------+-------------------------------------------------------------------------------------------------------------------------------------------+------------------------------------------------------------------------------------------------+-------------------------------------------------------------------------------------------------------------------------------------------+------------------------------------------------------------------------------------------------+-------------------------------------------------------------------------------------------------------------------------------------------+\n",
            "\n"
          ]
        }
      ]
    },
    {
      "cell_type": "markdown",
      "source": [
        "12) Retourner tous les chemins qui passent par trois sommets et qui commencent à partir de 'Townsend at 7th'"
      ],
      "metadata": {
        "id": "2ijenFcu5VyN"
      }
    },
    {
      "cell_type": "code",
      "source": [
        "# Recherche de tous les chemins qui passent par trois sommets\n",
        "paths = stationGraph.find(\"(a)-[]->(b); (b)-[]->(c)\")\n",
        "\n",
        "# Filtrage des chemins qui commencent à partir de 'Townsend at 7th'\n",
        "filtered_paths = paths.filter(\"a.id = 'Townsend at 7th'\")\n",
        "\n",
        "# Affichage des résultats\n",
        "filtered_paths.show(truncate=False)"
      ],
      "metadata": {
        "colab": {
          "base_uri": "https://localhost:8080/"
        },
        "id": "-ZzLSc085WP2",
        "outputId": "46f36207-13a2-4384-9fa3-4bd3129ad59f"
      },
      "execution_count": 22,
      "outputs": [
        {
          "output_type": "stream",
          "name": "stdout",
          "text": [
            "+---------------------------------------------------------------------------+------------------------------------------------------------------------------------------------+---------------------------------------------------------------------------------------------------+\n",
            "|a                                                                          |b                                                                                               |c                                                                                                  |\n",
            "+---------------------------------------------------------------------------+------------------------------------------------------------------------------------------------+---------------------------------------------------------------------------------------------------+\n",
            "|{65, Townsend at 7th, 37.771058, -122.402717, 15, San Francisco, 8/22/2013}|{49, Spear at Folsom, 37.790302, -122.390637, 19, San Francisco, 8/20/2013}                     |{61, 2nd at Townsend, 37.780526, -122.390288, 27, San Francisco, 8/22/2013}                        |\n",
            "|{65, Townsend at 7th, 37.771058, -122.402717, 15, San Francisco, 8/22/2013}|{49, Spear at Folsom, 37.790302, -122.390637, 19, San Francisco, 8/20/2013}                     |{42, Davis at Jackson, 37.79728, -122.398436, 15, San Francisco, 8/19/2013}                        |\n",
            "|{65, Townsend at 7th, 37.771058, -122.402717, 15, San Francisco, 8/22/2013}|{49, Spear at Folsom, 37.790302, -122.390637, 19, San Francisco, 8/20/2013}                     |{65, Townsend at 7th, 37.771058, -122.402717, 15, San Francisco, 8/22/2013}                        |\n",
            "|{65, Townsend at 7th, 37.771058, -122.402717, 15, San Francisco, 8/22/2013}|{49, Spear at Folsom, 37.790302, -122.390637, 19, San Francisco, 8/20/2013}                     |{61, 2nd at Townsend, 37.780526, -122.390288, 27, San Francisco, 8/22/2013}                        |\n",
            "|{65, Townsend at 7th, 37.771058, -122.402717, 15, San Francisco, 8/22/2013}|{49, Spear at Folsom, 37.790302, -122.390637, 19, San Francisco, 8/20/2013}                     |{69, San Francisco Caltrain 2 (330 Townsend), 37.7766, -122.39547, 23, San Francisco, 8/23/2013}   |\n",
            "|{65, Townsend at 7th, 37.771058, -122.402717, 15, San Francisco, 8/22/2013}|{50, Harry Bridges Plaza (Ferry Building), 37.795392, -122.394203, 23, San Francisco, 8/20/2013}|{61, 2nd at Townsend, 37.780526, -122.390288, 27, San Francisco, 8/22/2013}                        |\n",
            "|{65, Townsend at 7th, 37.771058, -122.402717, 15, San Francisco, 8/22/2013}|{50, Harry Bridges Plaza (Ferry Building), 37.795392, -122.394203, 23, San Francisco, 8/20/2013}|{54, Embarcadero at Bryant, 37.787152, -122.388013, 15, San Francisco, 8/20/2013}                  |\n",
            "|{65, Townsend at 7th, 37.771058, -122.402717, 15, San Francisco, 8/22/2013}|{50, Harry Bridges Plaza (Ferry Building), 37.795392, -122.394203, 23, San Francisco, 8/20/2013}|{70, San Francisco Caltrain (Townsend at 4th), 37.776617, -122.39526, 19, San Francisco, 8/23/2013}|\n",
            "+---------------------------------------------------------------------------+------------------------------------------------------------------------------------------------+---------------------------------------------------------------------------------------------------+\n",
            "\n"
          ]
        }
      ]
    }
  ]
}